{
 "cells": [
  {
   "cell_type": "markdown",
   "metadata": {
    "colab_type": "text",
    "id": "0yzl3MKzf98L"
   },
   "source": [
    "<table align=\"center\" width=100%>\n",
    "    <tr>\n",
    "        <td width=\"10%\">\n",
    "            <img src=\"in_class.png\">\n",
    "        </td>\n",
    "        <td>\n",
    "            <div align=\"center\">\n",
    "                <font color=\"#21618C\" size=8px>\n",
    "                    <b> Inclass-Lab  <br>(Session 1 & 2)\n",
    "                    </b>\n",
    "                </font>\n",
    "            </div>\n",
    "        </td>\n",
    "    </tr>\n",
    "</table>"
   ]
  },
  {
   "cell_type": "markdown",
   "metadata": {
    "colab_type": "text",
    "id": "LFqGx_Dhf98M"
   },
   "source": [
    "## Table of Content\n",
    "\n",
    "1. **[Using print()](#print)**\n",
    "2. **[Data types](#types)**\n",
    "3. **[Arithmetic Operations](#arithmetic)**\n",
    "4. **[Boolean Operations](#boolean)**\n",
    "5. **[Concatenation](#concatenation)**\n",
    "6. **[Pseudo Codes](#pseudo)**\n",
    "7. **[String](#string)**\n",
    "8. **[List](#list)**\n",
    "9. **[Tuple](#tuple)**\n",
    "10. **[Set](#set)**\n",
    "11. **[Dictionary](#dict)**\n",
    "12. **[Conditional Statements](#cond)**\n",
    "13. **[Python Flow Control](#flow_control)**\n",
    "14. **[List Comprehension](#lc)**\n",
    "15. **[User-Define Function](#User_Define)**\n",
    "16. **[Lambda Functions](#Lambda_Functions)**\n",
    "    - 16.1 **[Map Function](#Map_Function)**\n",
    "    - 16.2 **[Filter Function](#Filter_Function)**\n",
    "    - 16.3 **[Reduce Function](#Reduce_Function)**"
   ]
  },
  {
   "cell_type": "markdown",
   "metadata": {
    "colab_type": "text",
    "id": "psOYFu6zf98N"
   },
   "source": [
    "### Let's begin with some hands-on practice exercises"
   ]
  },
  {
   "cell_type": "markdown",
   "metadata": {
    "colab_type": "text",
    "id": "r4J-iIEhf98N"
   },
   "source": [
    "<a id=\"print\"> </a>\n",
    "## 1. Using print()"
   ]
  },
  {
   "cell_type": "markdown",
   "metadata": {
    "colab_type": "text",
    "id": "77vuf1DVf98O"
   },
   "source": [
    "<table align=\"left\">\n",
    "    <tr>\n",
    "        <td width=\"6%\">\n",
    "            <img src=\"question_icon.png\">\n",
    "        </td>\n",
    "        <td>\n",
    "            <div align=\"left\", style=\"font-size:120%\">\n",
    "                <font color=\"#21618C\">\n",
    "                    <b>1. To display a statement. For example, \"Hello, How are you?\" </b>\n",
    "                </font>\n",
    "            </div>\n",
    "        </td>\n",
    "    </tr>\n",
    "</table>"
   ]
  },
  {
   "cell_type": "code",
   "execution_count": 1,
   "metadata": {
    "colab": {},
    "colab_type": "code",
    "id": "TZatTfxJjAUr"
   },
   "outputs": [
    {
     "name": "stdout",
     "output_type": "stream",
     "text": [
      "Hello\n"
     ]
    }
   ],
   "source": [
    "# type your code here\n",
    "print('Hello')"
   ]
  },
  {
   "cell_type": "markdown",
   "metadata": {
    "colab_type": "text",
    "id": "9qnEEhR4f98X"
   },
   "source": [
    "<table align=\"left\">\n",
    "    <tr>\n",
    "        <td width=\"6%\">\n",
    "            <img src=\"question_icon.png\">\n",
    "        </td>\n",
    "        <td>\n",
    "            <div align=\"left\", style=\"font-size:120%\">\n",
    "                <font color=\"#21618C\">\n",
    "                    <b>2. Write the alphabets 'A', 'B', 'C' on new lines using a single print function. </b>\n",
    "                </font>\n",
    "            </div>\n",
    "        </td>\n",
    "    </tr>\n",
    "</table>"
   ]
  },
  {
   "cell_type": "code",
   "execution_count": 2,
   "metadata": {
    "colab": {},
    "colab_type": "code",
    "id": "SdmwGdgxjAUz"
   },
   "outputs": [
    {
     "name": "stdout",
     "output_type": "stream",
     "text": [
      "A B C\n"
     ]
    }
   ],
   "source": [
    "# type your code here\n",
    "print('A', 'B', 'C')"
   ]
  },
  {
   "cell_type": "markdown",
   "metadata": {
    "colab_type": "text",
    "id": "QLSslfFdf98b"
   },
   "source": [
    "<a id=\"types\"> </a>\n",
    "## 2. Data types"
   ]
  },
  {
   "cell_type": "markdown",
   "metadata": {
    "colab_type": "text",
    "id": "6YXVLVi9f98b"
   },
   "source": [
    "<table align=\"left\">\n",
    "    <tr>\n",
    "        <td width=\"6%\">\n",
    "            <img src=\"question_icon.png\">\n",
    "        </td>\n",
    "        <td>\n",
    "            <div align=\"left\", style=\"font-size:120%\">\n",
    "                <font color=\"#21618C\">\n",
    "                    <b>3. Create a string, a numeric and boolean variables by assigning variable names. Further, check their datatype. For numeric variable check for whole numbers and numbers with decimal point.</b>\n",
    "                </font>\n",
    "            </div>\n",
    "        </td>\n",
    "    </tr>\n",
    "</table>"
   ]
  },
  {
   "cell_type": "markdown",
   "metadata": {
    "colab_type": "text",
    "id": "2R8Ix1P4f98c"
   },
   "source": [
    "**Declare a string variable and check its data type.**"
   ]
  },
  {
   "cell_type": "code",
   "execution_count": 6,
   "metadata": {
    "colab": {},
    "colab_type": "code",
    "id": "G9tUhjLzjAU4"
   },
   "outputs": [
    {
     "name": "stdout",
     "output_type": "stream",
     "text": [
      "<class 'str'>\n",
      "<class 'int'>\n",
      "<class 'bool'>\n"
     ]
    }
   ],
   "source": [
    "# type your code here\n",
    "v = 'Kapil'\n",
    "print(type(v))\n",
    "v = 111\n",
    "print(type(v))\n"
   ]
  },
  {
   "cell_type": "markdown",
   "metadata": {
    "colab_type": "text",
    "id": "3txBZsy1f98f"
   },
   "source": [
    "**Declare a numeric variable and check its data type.** <br>\n",
    "i. An interger variable."
   ]
  },
  {
   "cell_type": "code",
   "execution_count": 7,
   "metadata": {
    "colab": {},
    "colab_type": "code",
    "id": "YLEBSRgwjAU7"
   },
   "outputs": [
    {
     "name": "stdout",
     "output_type": "stream",
     "text": [
      "<class 'int'> <class 'float'>\n"
     ]
    }
   ],
   "source": [
    "# type your code here\n",
    "a = 1\n",
    "b =1.1\n",
    "print(type(a), type(b))"
   ]
  },
  {
   "cell_type": "markdown",
   "metadata": {
    "colab_type": "text",
    "id": "9pgoDopkf98i"
   },
   "source": [
    "ii. A fractional variable"
   ]
  },
  {
   "cell_type": "code",
   "execution_count": 10,
   "metadata": {
    "colab": {},
    "colab_type": "code",
    "id": "-MnJNs3wjAU_"
   },
   "outputs": [
    {
     "name": "stdout",
     "output_type": "stream",
     "text": [
      "<class 'float'>\n"
     ]
    }
   ],
   "source": [
    "# type yourcode here\n",
    "b =1.1\n",
    "print( type(b)) "
   ]
  },
  {
   "cell_type": "markdown",
   "metadata": {
    "colab_type": "text",
    "id": "97TYsEBdf98m"
   },
   "source": [
    "**Declare a boolean variable and check its data type.**"
   ]
  },
  {
   "cell_type": "code",
   "execution_count": 11,
   "metadata": {
    "colab": {},
    "colab_type": "code",
    "id": "Mm0NJf89jAVC"
   },
   "outputs": [
    {
     "name": "stdout",
     "output_type": "stream",
     "text": [
      "<class 'bool'>\n"
     ]
    }
   ],
   "source": [
    "# type your code here\n",
    "v = True\n",
    "print(type(v))"
   ]
  },
  {
   "cell_type": "markdown",
   "metadata": {
    "colab_type": "text",
    "id": "iZkGr2rTf98y"
   },
   "source": [
    "<table align=\"left\">\n",
    "    <tr>\n",
    "        <td width=\"6%\">\n",
    "            <img src=\"question_icon.png\">\n",
    "        </td>\n",
    "        <td>\n",
    "            <div align=\"left\", style=\"font-size:120%\">\n",
    "                <font color=\"#21618C\">\n",
    "                    <b>4. Create a numberic variable and convert it to a string.</b>\n",
    "                </font>\n",
    "            </div>\n",
    "        </td>\n",
    "    </tr>\n",
    "</table>"
   ]
  },
  {
   "cell_type": "code",
   "execution_count": 16,
   "metadata": {
    "colab": {},
    "colab_type": "code",
    "id": "TDy8puhijAVL"
   },
   "outputs": [
    {
     "name": "stdout",
     "output_type": "stream",
     "text": [
      "<class 'int'>\n",
      "1111 <class 'str'>\n"
     ]
    }
   ],
   "source": [
    "# type your code here\n",
    "v = 1111\n",
    "print(type(v))\n",
    "s1 =str(v)\n",
    " \n",
    "print(s1, type(s1))"
   ]
  },
  {
   "cell_type": "markdown",
   "metadata": {
    "colab_type": "text",
    "id": "OL9cj_rRf983"
   },
   "source": [
    "<a id=\"arithmetic\"></a>\n",
    "## 3. Arithmetic Operations"
   ]
  },
  {
   "cell_type": "markdown",
   "metadata": {
    "colab_type": "text",
    "id": "iOS1kKjWf983"
   },
   "source": [
    "<table align=\"left\">\n",
    "    <tr>\n",
    "        <td width=\"6%\">\n",
    "            <img src=\"question_icon.png\">\n",
    "        </td>\n",
    "        <td>\n",
    "            <div align=\"left\", style=\"font-size:120%\">\n",
    "                <font color=\"#21618C\">\n",
    "                    <b>5. Evaluate 145 into 354 minus 1345 divided by 45 plus (462 plus 23) divided by 3. </b>\n",
    "                </font>\n",
    "            </div>\n",
    "        </td>\n",
    "    </tr>\n",
    "</table>"
   ]
  },
  {
   "cell_type": "code",
   "execution_count": 19,
   "metadata": {
    "colab": {},
    "colab_type": "code",
    "id": "0WSGZCeQjAVO"
   },
   "outputs": [
    {
     "name": "stdout",
     "output_type": "stream",
     "text": [
      "51461.777777777774\n"
     ]
    }
   ],
   "source": [
    "# type your code here\n",
    "a = (145 * 354) - 1345/45 +(462 +23) /3\n",
    "print (a)"
   ]
  },
  {
   "cell_type": "markdown",
   "metadata": {
    "colab_type": "text",
    "id": "m8r2VOUnf987"
   },
   "source": [
    "<table align=\"left\">\n",
    "    <tr>\n",
    "        <td width=\"6%\">\n",
    "            <img src=\"question_icon.png\">\n",
    "        </td>\n",
    "        <td>\n",
    "            <div align=\"left\", style=\"font-size:120%\">\n",
    "                <font color=\"#21618C\">\n",
    "                    <b>6. Evaluate  and print the results of the following <br>\n",
    "                        <ol type = '1'> \n",
    "                            <li> 1353 plus 234 </li> \n",
    "                            <li> 2355 minus 346 </li>\n",
    "                            <li> 234 times 457 </li>\n",
    "                            <li> 25 divided by 6 </li>\n",
    "                            <li> Obtain remainder of  25 divided by 6 </li>\n",
    "                            <li> 33 raised to 4 </li> \n",
    "                            <li> 45 divided by 6  (floor division)\n",
    "                            <li> 2 raised to 10</li></ol>\n",
    "                    </b>\n",
    "                </font>\n",
    "            </div>\n",
    "        </td>\n",
    "    </tr>\n",
    "</table>"
   ]
  },
  {
   "cell_type": "code",
   "execution_count": 23,
   "metadata": {
    "colab": {},
    "colab_type": "code",
    "id": "i87c8jfIjAVR"
   },
   "outputs": [
    {
     "name": "stdout",
     "output_type": "stream",
     "text": [
      "1587\n",
      "2701\n",
      "539072076659987416319110307963527468446373456529545727892083685886249661234268419430764734720072622422505502508135341619878461603745951419746182454950532510443974617929080329600710447141598677394080022869517750221187349315235393846955092530875441504765986193601870499216003379320111674602038675908501344235890116065987634717620853404194653308912092369777074630532256048115037683141659673255799140932741304909052723038535864582905947886116421243576786935587097176119107467984204662567979899746195098623822985020670797887857510529537464503751494659121756639132972326825172548761022468585174493405431071695162903297040280897962020089702961666200229220783260470294547462812918159508706688197731927555279359592668820429183540790575837578412388677986623177848171355880367429921349227026494438818752776529830629984380683582287360833531358218305767510897561364286632061985651840593766650537207127371669741271664371679682905302903067569424090328872494977871441007450272590024546202949748681371688850724808151533872571966026620183915772799537616216280947736707456215566918253538924518172524544\n",
      "4.166666666666667\n",
      "1\n",
      "37\n",
      "7.5\n",
      "8\n"
     ]
    }
   ],
   "source": [
    "# type your code here\n",
    "a1 =1353 + 234\n",
    "print(a1)\n",
    "a2 = 2355 + 346\n",
    "print(a2)\n",
    "a3 = 234 ** 457\n",
    "print(a3)\n",
    "a4 = 25 / 6\n",
    "print(a4)\n",
    "a5 =25 % 6\n",
    "print(a5)\n",
    "a6 =33^4\n",
    "print(a6)\n",
    "a7 = 45/6\n",
    "print(a7)\n",
    "a8 =2^10\n",
    "print(a8)\n"
   ]
  },
  {
   "cell_type": "markdown",
   "metadata": {
    "colab_type": "text",
    "id": "XID79y2_f99O"
   },
   "source": [
    "<table align=\"left\">\n",
    "    <tr>\n",
    "        <td width=\"6%\">\n",
    "            <img src=\"question_icon.png\">\n",
    "        </td>\n",
    "        <td>\n",
    "            <div align=\"left\", style=\"font-size:120%\">\n",
    "                <font color=\"#21618C\">\n",
    "                    <b>7. Calculate BMI of a person (take input for height and weight from user).</b>\n",
    "                </font>\n",
    "            </div>\n",
    "        </td>\n",
    "    </tr>\n",
    "</table>"
   ]
  },
  {
   "cell_type": "code",
   "execution_count": 31,
   "metadata": {
    "colab": {},
    "colab_type": "code",
    "id": "8-izYT9kjAVU"
   },
   "outputs": [
    {
     "name": "stdout",
     "output_type": "stream",
     "text": [
      "Enter your height in meters: 1.68\n",
      "Enter your weight in kg: 68\n",
      "24.09\n"
     ]
    }
   ],
   "source": [
    "# type your code here\n",
    "height = float(input(\"Enter your height in meters: \"))\n",
    "weight = float(input(\"Enter your weight in kg: \"))\n",
    " \n",
    "bmi = round((weight / height**2),2)\n",
    "print(bmi)"
   ]
  },
  {
   "cell_type": "markdown",
   "metadata": {
    "colab_type": "text",
    "id": "AXxxJmhZf99c"
   },
   "source": [
    "<a id=\"boolean\"></a>\n",
    "## 4. Boolean Operations"
   ]
  },
  {
   "cell_type": "markdown",
   "metadata": {
    "colab_type": "text",
    "id": "nI9sO6ZZf99c"
   },
   "source": [
    "<table align=\"left\">\n",
    "    <tr>\n",
    "        <td width=\"6%\">\n",
    "            <img src=\"question_icon.png\">\n",
    "        </td>\n",
    "        <td>\n",
    "            <div align=\"left\", style=\"font-size:120%\">\n",
    "                <font color=\"#21618C\">\n",
    "                    <b>8. Check whether the expression (54+34)* 45 is equal to the expression (0.9*2432)/0.9 </b>\n",
    "                </font>\n",
    "            </div>\n",
    "        </td>\n",
    "    </tr>\n",
    "</table>"
   ]
  },
  {
   "cell_type": "code",
   "execution_count": 35,
   "metadata": {
    "colab": {},
    "colab_type": "code",
    "id": "ZcU5ccNkjAVf"
   },
   "outputs": [
    {
     "name": "stdout",
     "output_type": "stream",
     "text": [
      "False\n"
     ]
    }
   ],
   "source": [
    "# type your code here\n",
    "eq = (54+34)* 45 == (0.9*2432)/0.9\n",
    "print(eq)\n"
   ]
  },
  {
   "cell_type": "markdown",
   "metadata": {
    "colab_type": "text",
    "id": "IShIieCJf99f"
   },
   "source": [
    "<a id=\"concatenation\"></a>\n",
    "## 5. Concatenation"
   ]
  },
  {
   "cell_type": "markdown",
   "metadata": {
    "colab_type": "text",
    "id": "3us7i6Inf99f"
   },
   "source": [
    "<table align=\"left\">\n",
    "    <tr>\n",
    "        <td width=\"6%\">\n",
    "            <img src=\"question_icon.png\">\n",
    "        </td>\n",
    "        <td>\n",
    "            <div align=\"left\", style=\"font-size:120%\">\n",
    "                <font color=\"#21618C\">\n",
    "                    <b>9. Create two strings and concatenate them using '+' operator. </b>\n",
    "                </font>\n",
    "            </div>\n",
    "        </td>\n",
    "    </tr>\n",
    "</table>"
   ]
  },
  {
   "cell_type": "code",
   "execution_count": 37,
   "metadata": {
    "colab": {},
    "colab_type": "code",
    "id": "sv3wPchOjAVi"
   },
   "outputs": [
    {
     "data": {
      "text/plain": [
       "'kapil das'"
      ]
     },
     "execution_count": 37,
     "metadata": {},
     "output_type": "execute_result"
    }
   ],
   "source": [
    "# type your code here\n",
    "a = 'kapil '\n",
    "b ='das'\n",
    "c = a+b\n",
    "c"
   ]
  },
  {
   "cell_type": "markdown",
   "metadata": {
    "colab_type": "text",
    "id": "Lzs2ddCwf99m"
   },
   "source": [
    "<table align=\"left\">\n",
    "    <tr>\n",
    "        <td width=\"6%\">\n",
    "            <img src=\"question_icon.png\">\n",
    "        </td>\n",
    "        <td>\n",
    "            <div align=\"left\", style=\"font-size:120%\">\n",
    "                <font color=\"#21618C\">\n",
    "                    <b>10. Concatenate the variables 'num = 34 and 'string ='How old are you?' using '+' operator. </b>\n",
    "                </font>\n",
    "            </div>\n",
    "        </td>\n",
    "    </tr>\n",
    "</table>"
   ]
  },
  {
   "cell_type": "code",
   "execution_count": 5,
   "metadata": {
    "colab": {},
    "colab_type": "code",
    "id": "d5rxobNtjAVk"
   },
   "outputs": [
    {
     "data": {
      "text/plain": [
       "'How old are you? 34'"
      ]
     },
     "execution_count": 5,
     "metadata": {},
     "output_type": "execute_result"
    }
   ],
   "source": [
    "# type your code here\n",
    "num = 34 \n",
    "s1='How old are you?'\n",
    "c =s1 + ' ' +str(num)\n",
    "c"
   ]
  },
  {
   "cell_type": "markdown",
   "metadata": {
    "colab_type": "text",
    "id": "mcgJwGNrf99s"
   },
   "source": [
    "<a id=\"pseudo\"> </a>\n",
    "## 6. Pseudo Codes"
   ]
  },
  {
   "cell_type": "markdown",
   "metadata": {
    "colab_type": "text",
    "id": "3uPwVwgAf99s"
   },
   "source": [
    "<table align=\"left\">\n",
    "    <tr>\n",
    "        <td width=\"6%\">\n",
    "            <img src=\"question_icon.png\">\n",
    "        </td>\n",
    "        <td>\n",
    "            <div align=\"left\", style=\"font-size:120%\">\n",
    "                <font color=\"#21618C\">\n",
    "                    <b>11. Write a pseudo code to print table of 5 using 'for' loop.</b>\n",
    "                </font>\n",
    "            </div>\n",
    "        </td>\n",
    "    </tr>\n",
    "</table>"
   ]
  },
  {
   "cell_type": "code",
   "execution_count": 6,
   "metadata": {
    "colab": {},
    "colab_type": "code",
    "id": "34k8BkJ_jAVn"
   },
   "outputs": [
    {
     "name": "stdout",
     "output_type": "stream",
     "text": [
      "5 X  1 = 5\n",
      "5 X  2 = 10\n",
      "5 X  3 = 15\n",
      "5 X  4 = 20\n",
      "5 X  5 = 25\n",
      "5 X  6 = 30\n",
      "5 X  7 = 35\n",
      "5 X  8 = 40\n",
      "5 X  9 = 45\n",
      "5 X  10 = 50\n"
     ]
    }
   ],
   "source": [
    "# type your code here\n",
    "for i in range(1, 11):\n",
    "    print('5 X ' , i,  '=', 5*i)\n"
   ]
  },
  {
   "cell_type": "markdown",
   "metadata": {
    "colab_type": "text",
    "id": "GhwNCvTmf99O"
   },
   "source": [
    "<a id=\"string\"></a>\n",
    "## 7. String Operations"
   ]
  },
  {
   "cell_type": "markdown",
   "metadata": {
    "colab_type": "text",
    "id": "uNrOdvg8f99U"
   },
   "source": [
    "<table align=\"left\">\n",
    "    <tr>\n",
    "        <td width=\"6%\">\n",
    "            <img src=\"question_icon.png\">\n",
    "        </td>\n",
    "        <td>\n",
    "            <div align=\"left\", style=\"font-size:120%\">\n",
    "                <font color=\"#21618C\">\n",
    "                    <b>12. Given the string 'Today is a sunny day.' \n",
    "                        <ol > <li>  Write a code to get 'Today'  and 'sunny'. </li>\n",
    "                             <li>  Obtain the last two letters. </li>\n",
    "                             <li>  Write the statement backwards.</li>\n",
    "                        </ol> </b>\n",
    "                </font>\n",
    "            </div>\n",
    "        </td>\n",
    "    </tr>\n",
    "</table>"
   ]
  },
  {
   "cell_type": "code",
   "execution_count": 51,
   "metadata": {
    "colab": {},
    "colab_type": "code",
    "id": "26parQocjAVc"
   },
   "outputs": [
    {
     "name": "stdout",
     "output_type": "stream",
     "text": [
      "Today is a sunny day.\n",
      "Write a code to get Today and sunny\n",
      "is a\n",
      "Today and sunny day.\n",
      "an1\n",
      "ay.\n"
     ]
    },
    {
     "data": {
      "text/plain": [
       "'.yad ynnus a si yadoT'"
      ]
     },
     "execution_count": 51,
     "metadata": {},
     "output_type": "execute_result"
    }
   ],
   "source": [
    "# type your code here\n",
    "s1 = 'Today is a sunny day.'\n",
    "s1.lower()\n",
    "print(s1)\n",
    "print('Write a code to get Today and sunny')\n",
    " \n",
    "a = s1[6:10]\n",
    "print(a) \n",
    "an1 = s1.replace('is a', 'and')\n",
    "print(an1)\n",
    "len(an1)\n",
    "print('an1')\n",
    "an1 = s1[-1:-20: -1]\n",
    "an1 = s1[18:: 1]\n",
    "print(an1)\n",
    "s1 = 'Today is a sunny day.'\n",
    "s1[::-1]\n"
   ]
  },
  {
   "cell_type": "code",
   "execution_count": 44,
   "metadata": {},
   "outputs": [
    {
     "data": {
      "text/plain": [
       "'today is a sunny day.'"
      ]
     },
     "execution_count": 44,
     "metadata": {},
     "output_type": "execute_result"
    }
   ],
   "source": [
    "s1 = 'Today is a sunny day.'\n",
    "s1.upper()\n",
    "s1.lower()\n",
    "\n",
    "s1.capitalize()\n",
    "s1.title()\n",
    "s1.swapcase()\n",
    "s1.casefold()"
   ]
  },
  {
   "cell_type": "markdown",
   "metadata": {
    "colab_type": "text",
    "id": "xozR0EP9Hq77"
   },
   "source": [
    "<a id=\"list\"> </a>\n",
    "## 8. List"
   ]
  },
  {
   "cell_type": "markdown",
   "metadata": {
    "colab_type": "text",
    "id": "h-ajPgCZHq78"
   },
   "source": [
    "<table align=\"left\">\n",
    "    <tr>\n",
    "        <td width=\"6%\">\n",
    "            <img src=\"question_icon.png\">\n",
    "        </td>\n",
    "        <td>\n",
    "            <div align=\"left\", style=\"font-size:120%\">\n",
    "                <font color=\"#21618C\">\n",
    "                    <b>13. Write a program to perform following list operations on the list given below:<br><br>\n",
    "                        a. Check the length of mix_list_1<br>\n",
    "                        b. Check the membership of '24' in mix_list_1<br> \n",
    "                        c. Concatenate the mix_list_1 and mix_list_2<br>\n",
    "                        d. Repeat the mix_list_2 three times </b>\n",
    "                </font>\n",
    "            </div>\n",
    "        </td>\n",
    "    </tr>\n",
    "</table>"
   ]
  },
  {
   "cell_type": "markdown",
   "metadata": {
    "colab_type": "text",
    "id": "y5fuZzHvHq78"
   },
   "source": [
    "**Lists to perform operations:**\n",
    "\n",
    "mix_list_1 = ['Learn', 24, 'Blue', False, -8]\n",
    "\n",
    "mix_list_2 = [4, 7, 'Summer']"
   ]
  },
  {
   "cell_type": "markdown",
   "metadata": {
    "colab_type": "text",
    "id": "fb4IvjnCHq79"
   },
   "source": [
    "**a. Check the length of mix_list_1**"
   ]
  },
  {
   "cell_type": "code",
   "execution_count": 68,
   "metadata": {
    "colab": {},
    "colab_type": "code",
    "id": "2LoU4Gt2Hq79"
   },
   "outputs": [
    {
     "name": "stdout",
     "output_type": "stream",
     "text": [
      "5   1\n",
      "True\n",
      "['Learn', 24, 'Blue', False, -8, 4, 7, 'Summer']\n",
      "[4, 7, 'Summer', 4, 7, 'Summer', 4, 7, 'Summer']\n"
     ]
    }
   ],
   "source": [
    "# type your code here\n",
    "mix_list_1 = ['Learn', 24, 'Blue', False, -8]\n",
    "print(len(mix_list_1) , ' ', mix_list_1.count(24))\n",
    "mix_list_2 = [4, 7, 'Summer']\n",
    "n1 =24\n",
    "print (n1 in mix_list_1)\n",
    "joinedlist = mix_list_1 + mix_list_2\n",
    "print(joinedlist)\n",
    "joinedlist = mix_list_2 + mix_list_2 +mix_list_2\n",
    "print(joinedlist)\n",
    "\n"
   ]
  },
  {
   "cell_type": "markdown",
   "metadata": {
    "colab_type": "text",
    "id": "EHjSh-veHq8C"
   },
   "source": [
    "**b. Check the membership of '24' in mix_list_1**"
   ]
  },
  {
   "cell_type": "code",
   "execution_count": 69,
   "metadata": {
    "colab": {},
    "colab_type": "code",
    "id": "xy0gdMTsHq8C"
   },
   "outputs": [
    {
     "name": "stdout",
     "output_type": "stream",
     "text": [
      "False\n"
     ]
    }
   ],
   "source": [
    "# type your code here\n",
    "print ('24' in mix_list_1)\n"
   ]
  },
  {
   "cell_type": "markdown",
   "metadata": {
    "colab_type": "text",
    "id": "NggnUh-sHq8F"
   },
   "source": [
    "**c. Concatenate the mix_list_1 and mix_list_2**"
   ]
  },
  {
   "cell_type": "code",
   "execution_count": 74,
   "metadata": {
    "colab": {},
    "colab_type": "code",
    "id": "zkokv2UxHq8F"
   },
   "outputs": [
    {
     "name": "stdout",
     "output_type": "stream",
     "text": [
      "[4, 7, 'Summer', 4, 7, 'Summer', 4, 7, 'Summer']\n"
     ]
    }
   ],
   "source": [
    "# type your code here\n",
    "joinedlist = mix_list_2 + mix_list_2 +mix_list_2\n",
    "print(joinedlist)"
   ]
  },
  {
   "cell_type": "markdown",
   "metadata": {
    "colab_type": "text",
    "id": "KXnGgSLHHq8I"
   },
   "source": [
    "**d. Repeat the mix_list_2 three times**"
   ]
  },
  {
   "cell_type": "code",
   "execution_count": 75,
   "metadata": {
    "colab": {},
    "colab_type": "code",
    "id": "7_9BewysHq8I"
   },
   "outputs": [
    {
     "name": "stdout",
     "output_type": "stream",
     "text": [
      "[4, 7, 'Summer', 4, 7, 'Summer', 4, 7, 'Summer']\n"
     ]
    }
   ],
   "source": [
    "joinedlist = mix_list_2 + mix_list_2 +mix_list_2\n",
    "print(joinedlist)\n",
    "# type your code here"
   ]
  },
  {
   "cell_type": "markdown",
   "metadata": {
    "colab_type": "text",
    "id": "WsoC37bTHq8L"
   },
   "source": [
    "<table align=\"left\">\n",
    "    <tr>\n",
    "        <td width=\"6%\">\n",
    "            <img src=\"question_icon.png\">\n",
    "        </td>\n",
    "        <td>\n",
    "            <div align=\"left\", style=\"font-size:120%\">\n",
    "                <font color=\"#21618C\">\n",
    "                    <b>14. Write the program to multiply the two lists</b>\n",
    "                </font>\n",
    "            </div>\n",
    "        </td>\n",
    "    </tr>\n",
    "</table>"
   ]
  },
  {
   "cell_type": "markdown",
   "metadata": {
    "colab_type": "text",
    "id": "Rz2kjxyYHq8L"
   },
   "source": [
    "**Lists to perform multiplication:**\n",
    "\n",
    "num_list_1 = [1, 2, 3, 4]\n",
    "\n",
    "num_list_2 = [0, 5, 2, 1]"
   ]
  },
  {
   "cell_type": "code",
   "execution_count": 80,
   "metadata": {
    "colab": {},
    "colab_type": "code",
    "id": "Fu5bsAB3Hq8M"
   },
   "outputs": [
    {
     "name": "stdout",
     "output_type": "stream",
     "text": [
      "[0, 10, 6, 4]\n"
     ]
    }
   ],
   "source": [
    "# type your code here\n",
    "num_list_1 = [1, 2, 3, 4]\n",
    "\n",
    "num_list_2 = [0, 5, 2, 1]\n",
    "res_list =[]\n",
    "for i in range(0, len(num_list_1)):\n",
    "    res_list.append(num_list_1[i] * num_list_2[i])\n",
    "print(res_list)"
   ]
  },
  {
   "cell_type": "markdown",
   "metadata": {
    "colab_type": "text",
    "id": "xNgztYzkHq8P"
   },
   "source": [
    "<table align=\"left\">\n",
    "    <tr>\n",
    "        <td width=\"6%\">\n",
    "            <img src=\"question_icon.png\">\n",
    "        </td>\n",
    "        <td>\n",
    "            <div align=\"left\", style=\"font-size:120%\">\n",
    "                <font color=\"#21618C\">\n",
    "                    <b>15. Write a code to retrieve elements from a list<br><br>\n",
    "                       a. First element<br>\n",
    "                       b. Second last element<br>\n",
    "                       c. First three elements<br>\n",
    "                       d. Slice the list from 1st index till the last index with an increment of an index by 2\n",
    "                    </b>\n",
    "                </font>\n",
    "            </div>\n",
    "        </td>\n",
    "    </tr>\n",
    "</table>"
   ]
  },
  {
   "cell_type": "markdown",
   "metadata": {
    "colab_type": "text",
    "id": "C7-N9cjuHq8P"
   },
   "source": [
    "**Use the below list**\n",
    "\n",
    "mix_list = ['Python', 1, 2, 3, 'Data', True] "
   ]
  },
  {
   "cell_type": "markdown",
   "metadata": {
    "colab_type": "text",
    "id": "5gvhfoqGHq8Q"
   },
   "source": [
    "**a. First element**"
   ]
  },
  {
   "cell_type": "code",
   "execution_count": 2,
   "metadata": {
    "colab": {},
    "colab_type": "code",
    "id": "RnPABxeeHq8R"
   },
   "outputs": [
    {
     "data": {
      "text/plain": [
       "'Python'"
      ]
     },
     "execution_count": 2,
     "metadata": {},
     "output_type": "execute_result"
    }
   ],
   "source": [
    "# type your code here\n",
    "mix_list = ['Python', 1, 2, 3, 'Data', True] \n",
    "mix_list[0]"
   ]
  },
  {
   "cell_type": "markdown",
   "metadata": {
    "colab_type": "text",
    "id": "O4D_YwEEHq8U"
   },
   "source": [
    "**b. Second last element**"
   ]
  },
  {
   "cell_type": "code",
   "execution_count": 83,
   "metadata": {
    "colab": {},
    "colab_type": "code",
    "id": "qoNIWqPcHq8U"
   },
   "outputs": [
    {
     "data": {
      "text/plain": [
       "'Data'"
      ]
     },
     "execution_count": 83,
     "metadata": {},
     "output_type": "execute_result"
    }
   ],
   "source": [
    "# type your code here\n",
    "mix_list[-2]"
   ]
  },
  {
   "cell_type": "markdown",
   "metadata": {
    "colab_type": "text",
    "id": "KkYrr5nxHq8X"
   },
   "source": [
    "**c. First three elements**"
   ]
  },
  {
   "cell_type": "code",
   "execution_count": 3,
   "metadata": {
    "colab": {},
    "colab_type": "code",
    "id": "cNrHgcS3Hq8Y"
   },
   "outputs": [
    {
     "data": {
      "text/plain": [
       "['Python', 1, 2]"
      ]
     },
     "execution_count": 3,
     "metadata": {},
     "output_type": "execute_result"
    }
   ],
   "source": [
    "# type your code here\n",
    "mix_list[0:3]"
   ]
  },
  {
   "cell_type": "markdown",
   "metadata": {
    "colab_type": "text",
    "collapsed": true,
    "id": "xPzM8IujHq8b"
   },
   "source": [
    "**d. Slice the list from 1st index till the last index with an increment of an index by 2**"
   ]
  },
  {
   "cell_type": "code",
   "execution_count": 4,
   "metadata": {
    "colab": {},
    "colab_type": "code",
    "id": "LFNqcmtMHq8c"
   },
   "outputs": [
    {
     "data": {
      "text/plain": [
       "['Python', 2, 'Data']"
      ]
     },
     "execution_count": 4,
     "metadata": {},
     "output_type": "execute_result"
    }
   ],
   "source": [
    "# type your code here\n",
    "mix_list[0:6:2]"
   ]
  },
  {
   "cell_type": "markdown",
   "metadata": {
    "colab_type": "text",
    "id": "__H6fsMJHq8f"
   },
   "source": [
    "<table align=\"left\">\n",
    "    <tr>\n",
    "        <td width=\"6%\">\n",
    "            <img src=\"question_icon.png\">\n",
    "        </td>\n",
    "        <td>\n",
    "            <div align=\"left\", style=\"font-size:120%\">\n",
    "                <font color=\"#21618C\">\n",
    "                    <b>16. Write a program to perform following built-in list operations:<br><br>\n",
    "                        a. Min(list)<br>\n",
    "                        b. Max(list)<br>\n",
    "                        c. Sort the elements (use sort() and sorted() function)<br>\n",
    "                        d. Create a copy of a list<br>\n",
    "                        e. Remove element '5' from the list</b>\n",
    "                </font>\n",
    "            </div>\n",
    "        </td>\n",
    "    </tr>\n",
    "</table>"
   ]
  },
  {
   "cell_type": "markdown",
   "metadata": {
    "colab_type": "text",
    "id": "ZzC2S5YnHq8g"
   },
   "source": [
    "**Use the below list**\n",
    "\n",
    "num_list = [4, 5, 7, -2, 0, 1] "
   ]
  },
  {
   "cell_type": "markdown",
   "metadata": {
    "colab_type": "text",
    "id": "mcQc-2B5Hq8g"
   },
   "source": [
    "**a. Min(list)**"
   ]
  },
  {
   "cell_type": "code",
   "execution_count": 8,
   "metadata": {
    "colab": {},
    "colab_type": "code",
    "id": "VOAZDd41Hq8g"
   },
   "outputs": [
    {
     "data": {
      "text/plain": [
       "-2"
      ]
     },
     "execution_count": 8,
     "metadata": {},
     "output_type": "execute_result"
    }
   ],
   "source": [
    "# type your code here\n",
    "num_list = [4, 5, 7, -2, 0, 1] \n",
    "min(num_list)"
   ]
  },
  {
   "cell_type": "markdown",
   "metadata": {
    "colab_type": "text",
    "id": "aQYj7JFHHq8j"
   },
   "source": [
    "**b. Max(list)**"
   ]
  },
  {
   "cell_type": "code",
   "execution_count": 9,
   "metadata": {
    "colab": {},
    "colab_type": "code",
    "id": "jMRj1xagHq8j"
   },
   "outputs": [
    {
     "data": {
      "text/plain": [
       "7"
      ]
     },
     "execution_count": 9,
     "metadata": {},
     "output_type": "execute_result"
    }
   ],
   "source": [
    "# type your code here\n",
    "max(num_list)"
   ]
  },
  {
   "cell_type": "markdown",
   "metadata": {
    "colab_type": "text",
    "id": "SmJUIeeqHq8m"
   },
   "source": [
    "**c. Sort the elements (use sort() and sorted() function)**"
   ]
  },
  {
   "cell_type": "code",
   "execution_count": 105,
   "metadata": {
    "colab": {},
    "colab_type": "code",
    "id": "hbhRFjnZHq8m"
   },
   "outputs": [
    {
     "name": "stdout",
     "output_type": "stream",
     "text": [
      "[7, 5, 4, 1, 0, -2]\n",
      "[-2, 0, 1, 4, 5, 7]\n"
     ]
    },
    {
     "data": {
      "text/plain": [
       "[-2, 0, 1, 4, 5, 7]"
      ]
     },
     "execution_count": 105,
     "metadata": {},
     "output_type": "execute_result"
    }
   ],
   "source": [
    "# type your code here\n",
    "num_list.sort()\n",
    "num_list\n",
    "num_list.sort(reverse=True)\n",
    "num_list\n",
    "print(num_list)\n",
    "num_list1 = [4, 5, 7, -2, 0, 1] \n",
    "print(sorted(num_list1))\n",
    "a2 =sorted(num_list1)\n",
    "a2\n",
    "\n"
   ]
  },
  {
   "cell_type": "markdown",
   "metadata": {
    "colab_type": "text",
    "id": "KmSbjVUwHq8o"
   },
   "source": [
    "**d. Create a copy of a list**"
   ]
  },
  {
   "cell_type": "code",
   "execution_count": 109,
   "metadata": {
    "colab": {},
    "colab_type": "code",
    "id": "56UyQFdiHq8p"
   },
   "outputs": [
    {
     "name": "stdout",
     "output_type": "stream",
     "text": [
      "1224866983616   Printt 1224866996224\n",
      "[4, 5, 7, 98, 0, 1]\n"
     ]
    },
    {
     "data": {
      "text/plain": [
       "[4, 5, 7, -2, 0, 1]"
      ]
     },
     "execution_count": 109,
     "metadata": {},
     "output_type": "execute_result"
    }
   ],
   "source": [
    "# type your code here\n",
    "num_list_cp = num_list1.copy()\n",
    "print(id(num_list1), '  Printt', id(num_list_cp))\n",
    "num_list_cp[3] =98\n",
    "print(num_list_cp)\n",
    "num_list1"
   ]
  },
  {
   "cell_type": "markdown",
   "metadata": {
    "colab_type": "text",
    "id": "Jfot8PkZHq8r"
   },
   "source": [
    "**e. Remove element '5' from the list**"
   ]
  },
  {
   "cell_type": "code",
   "execution_count": 10,
   "metadata": {
    "colab": {},
    "colab_type": "code",
    "id": "hERL4T88Hq8s"
   },
   "outputs": [],
   "source": [
    "# type your code here\n",
    "num_list.remove(5)"
   ]
  },
  {
   "cell_type": "markdown",
   "metadata": {
    "colab_type": "text",
    "id": "irtsAX9KHq8u"
   },
   "source": [
    "<table align=\"left\">\n",
    "    <tr>\n",
    "        <td width=\"6%\">\n",
    "            <img src=\"question_icon.png\">\n",
    "        </td>\n",
    "        <td>\n",
    "            <div align=\"left\", style=\"font-size:120%\">\n",
    "                <font color=\"#21618C\">\n",
    "                    <b>17. Manipulating a list:<br><br>\n",
    "                        a. Add a new element 'Data' in the given list<br>\n",
    "                        b. Add elements 'Excel' and 'Data' in the given list<br>\n",
    "                        c. Replace an element 'C' with 'C++' in the given list<br>\n",
    "                    </b>\n",
    "                </font>\n",
    "            </div>\n",
    "        </td>\n",
    "    </tr>\n",
    "</table>"
   ]
  },
  {
   "cell_type": "markdown",
   "metadata": {
    "colab_type": "text",
    "id": "6ksiCCmSHq8v"
   },
   "source": [
    "#### Use the below list\n",
    "\n",
    "languages_list = ['R', 'Python', 'C', 'Java']"
   ]
  },
  {
   "cell_type": "markdown",
   "metadata": {
    "colab_type": "text",
    "id": "N1ZIGDiDHq8v"
   },
   "source": [
    "**a. Add a new element 'Data' in the given list**"
   ]
  },
  {
   "cell_type": "code",
   "execution_count": 49,
   "metadata": {
    "colab": {},
    "colab_type": "code",
    "id": "pqdSAn1MHq8w"
   },
   "outputs": [
    {
     "data": {
      "text/plain": [
       "['R', 'Python', 'C', 'Java', 'Data']"
      ]
     },
     "execution_count": 49,
     "metadata": {},
     "output_type": "execute_result"
    }
   ],
   "source": [
    "# type your code here\n",
    "languages_list = ['R', 'Python', 'C', 'Java']\n",
    "languages_list.append('Data')\n",
    "languages_list"
   ]
  },
  {
   "cell_type": "markdown",
   "metadata": {
    "colab_type": "text",
    "id": "xuln8KAsHq8y"
   },
   "source": [
    "**b. Add elements 'Excel' and 'Data' in the given list**"
   ]
  },
  {
   "cell_type": "code",
   "execution_count": 50,
   "metadata": {
    "colab": {},
    "colab_type": "code",
    "id": "8lu6nYthHq8z"
   },
   "outputs": [],
   "source": [
    "# type your code here\n",
    "languages_list.append(('Data', 'Excel'))"
   ]
  },
  {
   "cell_type": "markdown",
   "metadata": {
    "colab_type": "text",
    "id": "wCl5_gw2Hq81"
   },
   "source": [
    "**c. Replace an element 'C' with 'C++' in the given list**"
   ]
  },
  {
   "cell_type": "code",
   "execution_count": 51,
   "metadata": {
    "colab": {},
    "colab_type": "code",
    "id": "r9wdhVe-Hq82"
   },
   "outputs": [],
   "source": [
    "# type your code here\n",
    "languages_list[2] ='C++'"
   ]
  },
  {
   "cell_type": "markdown",
   "metadata": {
    "colab_type": "text",
    "id": "ftGI6ZUOHq84"
   },
   "source": [
    "<table align=\"left\">\n",
    "    <tr>\n",
    "        <td width=\"6%\">\n",
    "            <img src=\"question_icon.png\">\n",
    "        </td>\n",
    "        <td>\n",
    "            <div align=\"left\", style=\"font-size:120%\">\n",
    "                <font color=\"#21618C\">\n",
    "                    <b>18. How many times 'Summer' is occuring in a given list?\n",
    "                    </b>\n",
    "                </font>\n",
    "            </div>\n",
    "        </td>\n",
    "    </tr>\n",
    "</table>"
   ]
  },
  {
   "cell_type": "markdown",
   "metadata": {
    "colab_type": "text",
    "id": "Jhgx8xp0Hq84"
   },
   "source": [
    "#### Use the below list\n",
    "\n",
    "seasons_list = ['Summer', 'Winter', 'Spring', 'Winter', 'Spring' ,'Summer', 'Spring', 'Summer', 'Winter', 'Summer', 'Spring']"
   ]
  },
  {
   "cell_type": "code",
   "execution_count": 20,
   "metadata": {
    "colab": {},
    "colab_type": "code",
    "id": "5u7MipCXHq84"
   },
   "outputs": [
    {
     "data": {
      "text/plain": [
       "4"
      ]
     },
     "execution_count": 20,
     "metadata": {},
     "output_type": "execute_result"
    }
   ],
   "source": [
    "# type your code herelanguages_list\n",
    "seasons_list = ['Summer', 'Winter', 'Spring', 'Winter', 'Spring' ,'Summer', 'Spring', 'Summer', 'Winter', 'Summer', 'Spring']\n",
    "seasons_list.count('Summer')"
   ]
  },
  {
   "cell_type": "markdown",
   "metadata": {
    "colab_type": "text",
    "id": "tjmTbT_5Hq88"
   },
   "source": [
    "<a id=\"tuple\"> </a>\n",
    "## 9. Tuple"
   ]
  },
  {
   "cell_type": "markdown",
   "metadata": {
    "colab_type": "text",
    "id": "EcQuIDOKHq88"
   },
   "source": [
    "<table align=\"left\">\n",
    "    <tr>\n",
    "        <td width=\"6%\">\n",
    "            <img src=\"question_icon.png\">\n",
    "        </td>\n",
    "        <td>\n",
    "            <div align=\"left\", style=\"font-size:120%\">\n",
    "                <font color=\"#21618C\">\n",
    "                    <b>19. Write a code to perform operations on tuple:<br><br>\n",
    "                        a. Check the length of num_tuple<br>\n",
    "                        b. Concatenate the num_tuple and mix_tuple<br>\n",
    "                        c. Repeat the mix_tuple two times\n",
    "                    </b>\n",
    "                </font>\n",
    "            </div>\n",
    "        </td>\n",
    "    </tr>\n",
    "</table>"
   ]
  },
  {
   "cell_type": "markdown",
   "metadata": {
    "colab_type": "text",
    "id": "OUWhCypvHq89"
   },
   "source": [
    "**Tuples to perform operations:**\n",
    "\n",
    "num_tuple = (4, 4, 8)\n",
    "\n",
    "mix_tuple = 'John', 5, -2"
   ]
  },
  {
   "cell_type": "markdown",
   "metadata": {
    "colab_type": "text",
    "id": "6YRuHhpRHq89"
   },
   "source": [
    "**a. Check the length of num_tuple**"
   ]
  },
  {
   "cell_type": "code",
   "execution_count": 21,
   "metadata": {
    "colab": {},
    "colab_type": "code",
    "id": "fnDwxnKHHq8-"
   },
   "outputs": [],
   "source": [
    "num_tuple = (4, 4, 8)\n",
    "\n",
    "mix_tuple = ('John', 5, -2)\n",
    "# type your code here"
   ]
  },
  {
   "cell_type": "markdown",
   "metadata": {
    "colab_type": "text",
    "id": "pf41oJT1Hq9A"
   },
   "source": [
    "**b. Concatenate the num_tuple and mix_tuple**"
   ]
  },
  {
   "cell_type": "code",
   "execution_count": 22,
   "metadata": {
    "colab": {},
    "colab_type": "code",
    "id": "k_4RrgIyHq9A"
   },
   "outputs": [
    {
     "data": {
      "text/plain": [
       "(4, 4, 8, 'John', 5, -2)"
      ]
     },
     "execution_count": 22,
     "metadata": {},
     "output_type": "execute_result"
    }
   ],
   "source": [
    "# type your code here\n",
    "num_tuple+mix_tuple"
   ]
  },
  {
   "cell_type": "markdown",
   "metadata": {
    "colab_type": "text",
    "id": "5eVMFRY4Hq9C"
   },
   "source": [
    "**c. Repeat the mix_tuple two times**"
   ]
  },
  {
   "cell_type": "code",
   "execution_count": 23,
   "metadata": {
    "colab": {},
    "colab_type": "code",
    "id": "scFq2y3VHq9C"
   },
   "outputs": [
    {
     "data": {
      "text/plain": [
       "('John', 5, -2, 'John', 5, -2)"
      ]
     },
     "execution_count": 23,
     "metadata": {},
     "output_type": "execute_result"
    }
   ],
   "source": [
    "# type your code here\n",
    "mix_tuple *2\n"
   ]
  },
  {
   "cell_type": "markdown",
   "metadata": {
    "colab_type": "text",
    "id": "xhwXYp7lHq9F"
   },
   "source": [
    "<table align=\"left\">\n",
    "    <tr>\n",
    "        <td width=\"6%\">\n",
    "            <img src=\"question_icon.png\">\n",
    "        </td>\n",
    "        <td>\n",
    "            <div align=\"left\", style=\"font-size:120%\">\n",
    "                <font color=\"#21618C\">\n",
    "                    <b>20. Add a new element '4' to the given tuple</b>\n",
    "                </font>\n",
    "            </div>\n",
    "        </td>\n",
    "    </tr>\n",
    "</table>"
   ]
  },
  {
   "cell_type": "markdown",
   "metadata": {
    "colab_type": "text",
    "id": "y1tlFRgTHq9G"
   },
   "source": [
    "**Use the tuple below:**\n",
    "\n",
    "mix_tuple = (['a', 1, True], 2, 'Science', -5)"
   ]
  },
  {
   "cell_type": "code",
   "execution_count": 31,
   "metadata": {
    "colab": {},
    "colab_type": "code",
    "id": "vVr8nMfWHq9G"
   },
   "outputs": [
    {
     "data": {
      "text/plain": [
       "(['a', 1, True], 2, 'Science', -5, '4')"
      ]
     },
     "execution_count": 31,
     "metadata": {},
     "output_type": "execute_result"
    }
   ],
   "source": [
    "# type your code here\n",
    "mix_tuple = (['a', 1, True], 2, 'Science', -5)\n",
    "mix_tuple + ('4',)"
   ]
  },
  {
   "cell_type": "markdown",
   "metadata": {
    "colab_type": "text",
    "id": "84aJcvgaHq9J"
   },
   "source": [
    "<table align=\"left\">\n",
    "    <tr>\n",
    "        <td width=\"6%\">\n",
    "            <img src=\"question_icon.png\">\n",
    "        </td>\n",
    "        <td>\n",
    "            <div align=\"left\", style=\"font-size:120%\">\n",
    "                <font color=\"#21618C\">\n",
    "                    <b>21. Replace the elements in the given tuple: <br><br>\n",
    "                        a. Replace '2' with '3'<br>\n",
    "                        b. Replace 'True' in first element with 'False'\n",
    "                    </b>\n",
    "                </font>\n",
    "            </div>\n",
    "        </td>\n",
    "    </tr>\n",
    "</table>"
   ]
  },
  {
   "cell_type": "markdown",
   "metadata": {
    "colab_type": "text",
    "id": "bizHUBQ9Hq9J"
   },
   "source": [
    "**Use the tuple below:**\n",
    "\n",
    "mix_tuple = (['a', 1, True], 2, 'Science', -5)"
   ]
  },
  {
   "cell_type": "markdown",
   "metadata": {
    "colab_type": "text",
    "id": "YG7TWxVhHq9K"
   },
   "source": [
    "**a. Replace '2' with '3'**"
   ]
  },
  {
   "cell_type": "code",
   "execution_count": 32,
   "metadata": {
    "colab": {},
    "colab_type": "code",
    "id": "eZAmxxuDHq9K"
   },
   "outputs": [
    {
     "data": {
      "text/plain": [
       "(['a', 1, True], 3, 'Science', -5)"
      ]
     },
     "execution_count": 32,
     "metadata": {},
     "output_type": "execute_result"
    }
   ],
   "source": [
    "# type your code here\n",
    "l1 = list(mix_tuple)\n",
    "l1[1] =3 \n",
    "mix1 = tuple(l1)\n",
    "mix1"
   ]
  },
  {
   "cell_type": "markdown",
   "metadata": {
    "colab_type": "text",
    "id": "yYdRaCumHq9M"
   },
   "source": [
    "**b. Replace 'True' in first element of the tuple with 'False'**"
   ]
  },
  {
   "cell_type": "code",
   "execution_count": 39,
   "metadata": {
    "colab": {},
    "colab_type": "code",
    "id": "rr8Vr6Z_Hq9N"
   },
   "outputs": [
    {
     "data": {
      "text/plain": [
       "(['a', '1', False], 3, 'Science', -5)"
      ]
     },
     "execution_count": 39,
     "metadata": {},
     "output_type": "execute_result"
    }
   ],
   "source": [
    "# type your code here\n",
    "mix1[1:4]\n",
    "mix1 = (['a','1', False], )+ mix1[1:4]\n",
    "mix1"
   ]
  },
  {
   "cell_type": "markdown",
   "metadata": {
    "colab_type": "text",
    "id": "mndBIIDcHq9Q"
   },
   "source": [
    "<a id=\"set\"> </a>\n",
    "## 10. Set"
   ]
  },
  {
   "cell_type": "markdown",
   "metadata": {
    "colab_type": "text",
    "id": "Gx8dkV4yHq9Q"
   },
   "source": [
    "<table align=\"left\">\n",
    "    <tr>\n",
    "        <td width=\"6%\">\n",
    "            <img src=\"question_icon.png\">\n",
    "        </td>\n",
    "        <td>\n",
    "            <div align=\"left\", style=\"font-size:120%\">\n",
    "                <font color=\"#21618C\">\n",
    "                    <b>22. Write the program to perform following manipulations:<br><br>\n",
    "                        a. Add '7' to the given set<br>\n",
    "                        b. Remove '3' from a given set<br>\n",
    "                        c. Clear the set\n",
    "                    </b>\n",
    "                </font>\n",
    "            </div>\n",
    "        </td>\n",
    "    </tr>\n",
    "</table>"
   ]
  },
  {
   "cell_type": "markdown",
   "metadata": {
    "colab_type": "text",
    "id": "v_a9Jxw3Hq9R"
   },
   "source": [
    "**Use the below set for manipulation**\n",
    "\n",
    "num_set = {1, 2, 3, 4, 5, 6}"
   ]
  },
  {
   "cell_type": "markdown",
   "metadata": {
    "colab_type": "text",
    "id": "VKR2QdmMHq9R"
   },
   "source": [
    "**a. Add '7' to the given set**"
   ]
  },
  {
   "cell_type": "code",
   "execution_count": 40,
   "metadata": {
    "colab": {},
    "colab_type": "code",
    "id": "xxKBLla5Hq9S"
   },
   "outputs": [
    {
     "data": {
      "text/plain": [
       "{1, 2, 3, 4, 5, 6, 7}"
      ]
     },
     "execution_count": 40,
     "metadata": {},
     "output_type": "execute_result"
    }
   ],
   "source": [
    "# type your code here\n",
    "num_set = {1, 2, 3, 4, 5, 6}\n",
    "num_set.add(7)\n",
    "num_set"
   ]
  },
  {
   "cell_type": "markdown",
   "metadata": {
    "colab_type": "text",
    "id": "bnzgEbLuHq9U"
   },
   "source": [
    "**b. Remove '3' from a given set**"
   ]
  },
  {
   "cell_type": "code",
   "execution_count": 41,
   "metadata": {
    "colab": {},
    "colab_type": "code",
    "id": "F51ucH0wHq9W"
   },
   "outputs": [],
   "source": [
    "# type your code here\n",
    "num_set.remove(3)"
   ]
  },
  {
   "cell_type": "markdown",
   "metadata": {
    "colab_type": "text",
    "id": "JGhiYu4uHq9Y"
   },
   "source": [
    "**c. Clear the set**"
   ]
  },
  {
   "cell_type": "code",
   "execution_count": 44,
   "metadata": {
    "colab": {},
    "colab_type": "code",
    "id": "hwIWOYClHq9Y"
   },
   "outputs": [
    {
     "data": {
      "text/plain": [
       "set()"
      ]
     },
     "execution_count": 44,
     "metadata": {},
     "output_type": "execute_result"
    }
   ],
   "source": [
    "# type your code here\n",
    "num_set\n",
    "num_set.clear()\n",
    "num_set"
   ]
  },
  {
   "cell_type": "markdown",
   "metadata": {
    "colab_type": "text",
    "id": "LtYFMb3zHq9a"
   },
   "source": [
    "<table align=\"left\">\n",
    "    <tr>\n",
    "        <td width=\"6%\">\n",
    "            <img src=\"question_icon.png\">\n",
    "        </td>\n",
    "        <td>\n",
    "            <div align=\"left\", style=\"font-size:120%\">\n",
    "                <font color=\"#21618C\">\n",
    "                    <b>23. Create two sets of words from the given sentences and perform the following operations:<br><br>\n",
    "                        a. Find the count of unique words in each of the sentence<br> \n",
    "                        b. Find the common words in both the sentences<br>\n",
    "                        c. Find the unique words in both the sentences\n",
    "                       </b>\n",
    "                </font>\n",
    "            </div>\n",
    "        </td>\n",
    "    </tr>\n",
    "</table>"
   ]
  },
  {
   "cell_type": "markdown",
   "metadata": {
    "colab_type": "text",
    "id": "rZ9yCM5VHq9b"
   },
   "source": [
    "**Use the sentences given below:**\n",
    "    \n",
    "sentence_1 = 'We shall analyse the data using python' \n",
    "\n",
    "sentence_2 = 'Python for data science'"
   ]
  },
  {
   "cell_type": "markdown",
   "metadata": {
    "colab_type": "text",
    "id": "EFD3WWtsHq9b"
   },
   "source": [
    "**Create set of words**"
   ]
  },
  {
   "cell_type": "code",
   "execution_count": 53,
   "metadata": {
    "colab": {},
    "colab_type": "code",
    "id": "w7c2XTM6Hq9b"
   },
   "outputs": [
    {
     "data": {
      "text/plain": [
       "{'We', 'analyse', 'data', 'python', 'shall', 'the', 'using'}"
      ]
     },
     "execution_count": 53,
     "metadata": {},
     "output_type": "execute_result"
    }
   ],
   "source": [
    "# type your code here\n",
    "sentence_1 = 'We shall analyse the data using python'\n",
    "\n",
    "sentence_2 = 'Python for data science'\n",
    "set_of_words1 = set(sentence_1.split(' '))\n",
    "set_of_words2 = set(sentence_2.split(' '))\n",
    "\n",
    "\n",
    "set_of_words1"
   ]
  },
  {
   "cell_type": "markdown",
   "metadata": {
    "colab_type": "text",
    "id": "-fe598g4Hq9e"
   },
   "source": [
    "**a. Find the number of unique words in the sentences**"
   ]
  },
  {
   "cell_type": "code",
   "execution_count": 61,
   "metadata": {
    "colab": {},
    "colab_type": "code",
    "id": "YzxURB_hHq9e"
   },
   "outputs": [
    {
     "name": "stdout",
     "output_type": "stream",
     "text": [
      "{'science', 'the', 'analyse', 'for', 'using', 'Python', 'shall', 'python', 'We'}\n"
     ]
    }
   ],
   "source": [
    "# type your code here\n",
    "#The symmetric difference between two sets is the set of all the elements that are either in the first set or the second \n",
    "#set but not in both.\n",
    "sym_set = set_of_words1.symmetric_difference(set_of_words2)\n",
    "print(sym_set)"
   ]
  },
  {
   "cell_type": "markdown",
   "metadata": {
    "colab_type": "text",
    "id": "z2Vs9Nl0Hq9h"
   },
   "source": [
    "**b. Find the common words in both the sentences**"
   ]
  },
  {
   "cell_type": "code",
   "execution_count": 54,
   "metadata": {
    "colab": {},
    "colab_type": "code",
    "id": "AWiLMR3FHq9i"
   },
   "outputs": [
    {
     "name": "stdout",
     "output_type": "stream",
     "text": [
      "{'data'}\n"
     ]
    }
   ],
   "source": [
    "# type your code here\n",
    "#The intersection of two sets is the set of all the common elements \n",
    "inter_set = set_of_words1.intersection(set_of_words2)\n",
    "print(inter_set)"
   ]
  },
  {
   "cell_type": "markdown",
   "metadata": {
    "colab_type": "text",
    "id": "i4EVZBkoHq9m"
   },
   "source": [
    "**c. Find the unique words in both the sentences**"
   ]
  },
  {
   "cell_type": "code",
   "execution_count": 58,
   "metadata": {
    "colab": {},
    "colab_type": "code",
    "id": "0WByAYsbHq9m"
   },
   "outputs": [
    {
     "data": {
      "text/plain": [
       "{'Python',\n",
       " 'We',\n",
       " 'analyse',\n",
       " 'data',\n",
       " 'for',\n",
       " 'python',\n",
       " 'science',\n",
       " 'shall',\n",
       " 'the',\n",
       " 'using'}"
      ]
     },
     "execution_count": 58,
     "metadata": {},
     "output_type": "execute_result"
    }
   ],
   "source": [
    "# type your code here\n",
    "new_sets = set_of_words1.union(set_of_words2)\n",
    "new_sets"
   ]
  },
  {
   "cell_type": "markdown",
   "metadata": {
    "colab_type": "text",
    "id": "Z_PShZZgHq9r"
   },
   "source": [
    "<table align=\"left\">\n",
    "    <tr>\n",
    "        <td width=\"6%\">\n",
    "            <img src=\"question_icon.png\">\n",
    "        </td>\n",
    "        <td>\n",
    "            <div align=\"left\", style=\"font-size:120%\">\n",
    "                <font color=\"#21618C\">\n",
    "                    <b>24. Write a program to perform following set operations:<br><br>\n",
    "                        a. Union<br> \n",
    "                        b. Intersection<br>\n",
    "                        c. Set of all the elements of set A that are not in set B<br>\n",
    "                        d. Set of all the elements of set B that are not in set A<br>\n",
    "                        e. Symmetric difference\n",
    "                    </b>\n",
    "                </font>\n",
    "            </div>\n",
    "        </td>\n",
    "    </tr>\n",
    "</table>"
   ]
  },
  {
   "cell_type": "markdown",
   "metadata": {
    "colab_type": "text",
    "id": "Ajmm_h0PHq9r"
   },
   "source": [
    "**Use the below set:**\n",
    "\n",
    "A = {1, 4, 5, 2, 6, 3, 40, 7, 87, 4, 71}\n",
    "\n",
    "B = {3, 42, 51, 6, 7, 8, 54, 5}"
   ]
  },
  {
   "cell_type": "markdown",
   "metadata": {
    "colab_type": "text",
    "id": "BLnHDTcqHq9s"
   },
   "source": [
    "**a. Union**"
   ]
  },
  {
   "cell_type": "code",
   "execution_count": 59,
   "metadata": {
    "colab": {},
    "colab_type": "code",
    "id": "gIuyHiKQHq9s"
   },
   "outputs": [],
   "source": [
    "# type your code here\n",
    "new_sets = set_of_words1.union(set_of_words2)"
   ]
  },
  {
   "cell_type": "markdown",
   "metadata": {
    "colab_type": "text",
    "id": "aATppGqYHq9v"
   },
   "source": [
    "**b. Intersection**"
   ]
  },
  {
   "cell_type": "code",
   "execution_count": 60,
   "metadata": {
    "colab": {},
    "colab_type": "code",
    "id": "-ba7OgAdHq9v"
   },
   "outputs": [
    {
     "name": "stdout",
     "output_type": "stream",
     "text": [
      "{'data'}\n"
     ]
    }
   ],
   "source": [
    "# type your code here\n",
    "inter_set = set_of_words1.intersection(set_of_words2)\n",
    "print(inter_set)"
   ]
  },
  {
   "cell_type": "markdown",
   "metadata": {
    "colab_type": "text",
    "id": "6zSbv6h9Hq9x"
   },
   "source": [
    "**c. Set of all the elements of set A that are not in set B**"
   ]
  },
  {
   "cell_type": "code",
   "execution_count": 62,
   "metadata": {
    "colab": {},
    "colab_type": "code",
    "id": "Pbk8QtY-Hq9y"
   },
   "outputs": [
    {
     "data": {
      "text/plain": [
       "{'We', 'analyse', 'python', 'shall', 'the', 'using'}"
      ]
     },
     "execution_count": 62,
     "metadata": {},
     "output_type": "execute_result"
    }
   ],
   "source": [
    "# type your code here\n",
    "#The difference between two sets is the set of all the elements in first set that are not present in the second set\n",
    "set_of_words1-set_of_words2"
   ]
  },
  {
   "cell_type": "markdown",
   "metadata": {
    "colab_type": "text",
    "id": "qe1z_syuHq91"
   },
   "source": [
    "**d. Set of all the elements of set B that are not in set A**"
   ]
  },
  {
   "cell_type": "code",
   "execution_count": 63,
   "metadata": {
    "colab": {},
    "colab_type": "code",
    "id": "qN641EbnHq92"
   },
   "outputs": [
    {
     "data": {
      "text/plain": [
       "set()"
      ]
     },
     "execution_count": 63,
     "metadata": {},
     "output_type": "execute_result"
    }
   ],
   "source": [
    "# type your code here\n",
    "set_of_words1-set_of_words1"
   ]
  },
  {
   "cell_type": "markdown",
   "metadata": {
    "colab_type": "text",
    "id": "a1EQeXOUHq94"
   },
   "source": [
    "**e. Symmetric difference**"
   ]
  },
  {
   "cell_type": "code",
   "execution_count": 64,
   "metadata": {
    "colab": {},
    "colab_type": "code",
    "id": "Ee7s6P4tHq94"
   },
   "outputs": [
    {
     "name": "stdout",
     "output_type": "stream",
     "text": [
      "{'science', 'the', 'analyse', 'for', 'using', 'Python', 'shall', 'python', 'We'}\n"
     ]
    }
   ],
   "source": [
    "# type your code here\n",
    "sym_set = set_of_words1.symmetric_difference(set_of_words2)\n",
    "print(sym_set)"
   ]
  },
  {
   "cell_type": "markdown",
   "metadata": {},
   "source": [
    "<a id=\"dict\"> </a>\n",
    "## 11. Dictionary"
   ]
  },
  {
   "cell_type": "markdown",
   "metadata": {},
   "source": [
    "<table align=\"left\">\n",
    "    <tr>\n",
    "        <td width=\"6%\">\n",
    "            <img src=\"question_icon.png\">\n",
    "        </td>\n",
    "        <td>\n",
    "            <div align=\"left\", style=\"font-size:120%\">\n",
    "                <font color=\"#21618C\">\n",
    "                    <b>25. Provide solution for the following:<br><br> \n",
    "                        a. Write a program to create a dictionary using given keys and values<br> \n",
    "                                   Use the keys and values to create a dictionary<br> \n",
    "                                   key = ['Weight','BMI','Age','Profession']<br> \n",
    "                                   value = [67, 25, 27, 'CA']<br> \n",
    "                        b.Use the dictionary created before and Write a code to add a key ('Height':154) to the dictionary<br> \n",
    "                        c.Write a program to retrieve the keys/values of dictionary<br> \n",
    "                        d.Write a program to get the value for 'Age' from the dictionary\n",
    "                    </b>\n",
    "                </font>\n",
    "            </div>\n",
    "        </td>\n",
    "    </tr>\n",
    "</table>"
   ]
  },
  {
   "cell_type": "markdown",
   "metadata": {},
   "source": [
    "**a. Write a program to create a dictionary using given keys and values**\n",
    "\n",
    "**Use the keys and values to create a dictionary**\n",
    "\n",
    "key = ['Weight','BMI','Age','Profession']\n",
    "\n",
    "value = [67, 25, 27, 'CA']"
   ]
  },
  {
   "cell_type": "code",
   "execution_count": 66,
   "metadata": {
    "colab": {},
    "colab_type": "code",
    "id": "VJLZof_iHq-K"
   },
   "outputs": [
    {
     "name": "stdout",
     "output_type": "stream",
     "text": [
      "{'Weight': 67, 'BMI': 25, 'Age': 27, 'Profession': 'CA'}\n"
     ]
    }
   ],
   "source": [
    "# type your code here\n",
    "key = ['Weight','BMI','Age','Profession']\n",
    "\n",
    "value = [67, 25, 27, 'CA']\n",
    "dict1 = dict(zip(key, value))\n",
    "print(dict1)"
   ]
  },
  {
   "cell_type": "markdown",
   "metadata": {},
   "source": [
    "**b. Use the dictionary created before and Write a code to add a key ('Height':154) to the dictionary**"
   ]
  },
  {
   "cell_type": "code",
   "execution_count": 68,
   "metadata": {
    "colab": {},
    "colab_type": "code",
    "id": "VJLZof_iHq-K"
   },
   "outputs": [],
   "source": [
    "# type your code here\n",
    "dict1.update({'Height':154})"
   ]
  },
  {
   "cell_type": "markdown",
   "metadata": {},
   "source": [
    "**c. Write a program to retrieve the keys/values of dictionary**"
   ]
  },
  {
   "cell_type": "code",
   "execution_count": 74,
   "metadata": {
    "colab": {},
    "colab_type": "code",
    "id": "VJLZof_iHq-K"
   },
   "outputs": [
    {
     "name": "stdout",
     "output_type": "stream",
     "text": [
      "keys  dict_keys(['Weight', 'BMI', 'Age', 'Profession', 'Height'])\n",
      "values  dict_values([67, 25, 27, 'CA', 154])\n"
     ]
    }
   ],
   "source": [
    "# type your code here\n",
    "dict_keys = dict1.keys()\n",
    "dict_values = dict1.values()\n",
    "print('keys ',dict_keys)\n",
    "print('values ',dict_values)"
   ]
  },
  {
   "cell_type": "markdown",
   "metadata": {},
   "source": [
    "**d. Write a program to get the value for 'Age' from the dictionary**"
   ]
  },
  {
   "cell_type": "code",
   "execution_count": 75,
   "metadata": {
    "colab": {},
    "colab_type": "code",
    "id": "VJLZof_iHq-K"
   },
   "outputs": [
    {
     "data": {
      "text/plain": [
       "27"
      ]
     },
     "execution_count": 75,
     "metadata": {},
     "output_type": "execute_result"
    }
   ],
   "source": [
    "# type your code here\n",
    "dict1.get('Age')"
   ]
  },
  {
   "cell_type": "markdown",
   "metadata": {
    "colab_type": "text",
    "id": "bEAynmvFHq-M"
   },
   "source": [
    "<a id=\"cond\"> </a>\n",
    "## 12. Conditional Statements"
   ]
  },
  {
   "cell_type": "markdown",
   "metadata": {
    "colab_type": "text",
    "id": "lRSkSpPqHq-M"
   },
   "source": [
    "<table align=\"left\">\n",
    "    <tr>\n",
    "        <td width=\"6%\">\n",
    "            <img src=\"question_icon.png\">\n",
    "        </td>\n",
    "        <td>\n",
    "            <div align=\"left\", style=\"font-size:120%\">\n",
    "                <font color=\"#21618C\">\n",
    "                    <b>26. Write a program to check whether a given number is multiple of 7 (use if statement)</b>\n",
    "                </font>\n",
    "            </div>\n",
    "        </td>\n",
    "    </tr>\n",
    "</table>"
   ]
  },
  {
   "cell_type": "code",
   "execution_count": 78,
   "metadata": {
    "colab": {},
    "colab_type": "code",
    "id": "7v0jNVSEHq-M"
   },
   "outputs": [],
   "source": [
    "# type your code here\n",
    "n1 =10\n",
    "if n1%7 ==0:\n",
    "    print(\"Multiple of 7\")\n",
    "    "
   ]
  },
  {
   "cell_type": "markdown",
   "metadata": {
    "colab_type": "text",
    "id": "HxI9Dq2jHq-S"
   },
   "source": [
    "<table align=\"left\">\n",
    "    <tr>\n",
    "        <td width=\"6%\">\n",
    "            <img src=\"question_icon.png\">\n",
    "        </td>\n",
    "        <td>\n",
    "            <div align=\"left\", style=\"font-size:120%\">\n",
    "                <font color=\"#21618C\">\n",
    "                    <b>27. Write a program to check whether a number is positive, negative or zero (use if-elif) </b>\n",
    "                </font>\n",
    "            </div>\n",
    "        </td>\n",
    "    </tr>\n",
    "</table>"
   ]
  },
  {
   "cell_type": "code",
   "execution_count": 79,
   "metadata": {
    "colab": {},
    "colab_type": "code",
    "id": "Y47AyVjLHq-T"
   },
   "outputs": [
    {
     "name": "stdout",
     "output_type": "stream",
     "text": [
      "Positive\n"
     ]
    }
   ],
   "source": [
    "# type your code here\n",
    "num1 =10\n",
    "if num1 > 0:\n",
    "    print('Positive')\n",
    "elif num1==0:\n",
    "    print('Zero')\n",
    "else:\n",
    "    print('Negative')"
   ]
  },
  {
   "cell_type": "markdown",
   "metadata": {},
   "source": [
    "<a id= \"flow_control\"> </a>\n",
    "## 13. Python Flow Control"
   ]
  },
  {
   "cell_type": "markdown",
   "metadata": {},
   "source": [
    "<table align=\"left\">\n",
    "    <tr>\n",
    "        <td width=\"6%\">\n",
    "            <img src=\"question_icon.png\">\n",
    "        </td>\n",
    "        <td>\n",
    "            <div align=\"left\", style=\"font-size:120%\">\n",
    "                <font color=\"#21618C\">\n",
    "                    <b>28. Write a program for generating a fibonacci series starting with 0 and 1 for the next 10 values using a while loop. </b>\n",
    "                </font>\n",
    "            </div>\n",
    "        </td>\n",
    "    </tr>\n",
    "</table>"
   ]
  },
  {
   "cell_type": "code",
   "execution_count": 1,
   "metadata": {},
   "outputs": [
    {
     "name": "stdout",
     "output_type": "stream",
     "text": [
      "0 1 1 2 3 5 8 13 21 34 55 89 "
     ]
    }
   ],
   "source": [
    "# type your code here  \n",
    "count =10\n",
    "a =0 \n",
    "b=1\n",
    "print(a, b, end=' ')\n",
    "while(count > 0):\n",
    "    count  = count -1\n",
    "    c= a+b;\n",
    "    print(c, end=' ')\n",
    "    a=b\n",
    "    b =c\n",
    "    \n",
    "\n",
    "    \n",
    "    \n",
    "    "
   ]
  },
  {
   "cell_type": "markdown",
   "metadata": {},
   "source": [
    "<table align=\"left\">\n",
    "    <tr>\n",
    "        <td width=\"6%\">\n",
    "            <img src=\"question_icon.png\">\n",
    "        </td>\n",
    "        <td>\n",
    "            <div align=\"left\", style=\"font-size:120%\">\n",
    "                <font color=\"#21618C\">\n",
    "                    <b>29. Write a program to check whether a number is greater than the other using if statement (take the input from user).</b>\n",
    "                </font>\n",
    "            </div>\n",
    "        </td>\n",
    "    </tr>\n",
    "</table>"
   ]
  },
  {
   "cell_type": "code",
   "execution_count": 3,
   "metadata": {},
   "outputs": [
    {
     "name": "stdout",
     "output_type": "stream",
     "text": [
      "Enter Number 1: 10\n",
      "Enter Number 2 12\n",
      "Numer 2 12is Greater\n"
     ]
    }
   ],
   "source": [
    "# type your code here   \n",
    "n1 = int(input(\"Enter Number 1: \"))\n",
    "n2 = int(input(\"Enter Number 2 \"))\n",
    "if(n1>n2):\n",
    "    print(f'Number 1 {n1} is Greater')\n",
    "else:\n",
    "    print(f'Numer 2 {n2} is Greater')"
   ]
  },
  {
   "cell_type": "markdown",
   "metadata": {},
   "source": [
    "<table align=\"left\">\n",
    "    <tr>\n",
    "        <td width=\"6%\">\n",
    "            <img src=\"question_icon.png\">\n",
    "        </td>\n",
    "        <td>\n",
    "            <div align=\"left\", style=\"font-size:120%\">\n",
    "                <font color=\"#21618C\">\n",
    "                    <b>30. Write a program to check whether a number is prime or not (take the input from user).</b>\n",
    "                </font>\n",
    "            </div>\n",
    "        </td>\n",
    "    </tr>\n",
    "</table>"
   ]
  },
  {
   "cell_type": "code",
   "execution_count": 10,
   "metadata": {},
   "outputs": [
    {
     "name": "stdout",
     "output_type": "stream",
     "text": [
      "Enter a number: 12\n",
      "12 is not a prime number\n"
     ]
    }
   ],
   "source": [
    "# type your code here\n",
    "num = int(input(\"Enter a number: \"))\n",
    "\n",
    "# define a flag variable\n",
    "flag = False\n",
    "\n",
    "if num == 1:\n",
    "    print(num, \"is not a prime number\")\n",
    "elif num > 1:\n",
    "    # check for factors\n",
    "    for i in range(2, int(num/2)):\n",
    "        if (num % i) == 0:\n",
    "            # if factor is found, set flag to True\n",
    "            flag = True\n",
    "            # break out of loop\n",
    "            break\n",
    "\n",
    "    # check if flag is True\n",
    "    if flag:\n",
    "        print(num, \"is not a prime number\")\n",
    "    else:\n",
    "        print(num, \"is a prime number\")"
   ]
  },
  {
   "cell_type": "markdown",
   "metadata": {},
   "source": [
    "<table align=\"left\">\n",
    "    <tr>\n",
    "        <td width=\"6%\">\n",
    "            <img src=\"question_icon.png\">\n",
    "        </td>\n",
    "        <td>\n",
    "            <div align=\"left\", style=\"font-size:120%\">\n",
    "                <font color=\"#21618C\">\n",
    "                    <b>31. Write a program to check whether two numbers are amicable or not (take the input from user).</b>\n",
    "                </font>\n",
    "            </div>\n",
    "        </td>\n",
    "    </tr>\n",
    "</table>"
   ]
  },
  {
   "cell_type": "code",
   "execution_count": 12,
   "metadata": {},
   "outputs": [
    {
     "name": "stdout",
     "output_type": "stream",
     "text": [
      "Enter number 1: 6\n",
      "Enter number 2: 3\n",
      "Not Amicable!\n"
     ]
    }
   ],
   "source": [
    "# type your code here\n",
    "x=int(input('Enter number 1: '))\n",
    "y=int(input('Enter number 2: '))\n",
    "sum1=0\n",
    "sum2=0\n",
    "for i in range(1,x):\n",
    "    if x%i==0:\n",
    "        sum1+=i\n",
    "for j in range(1,y):\n",
    "    if y%j==0:\n",
    "        sum2+=j\n",
    "if(sum1==y and sum2==x):\n",
    "    print('Amicable!')\n",
    "else:\n",
    "    print('Not Amicable!')"
   ]
  },
  {
   "cell_type": "markdown",
   "metadata": {},
   "source": [
    "<table align=\"left\">\n",
    "    <tr>\n",
    "        <td width=\"6%\">\n",
    "            <img src=\"question_icon.png\">\n",
    "        </td>\n",
    "        <td>\n",
    "            <div align=\"left\", style=\"font-size:120%\">\n",
    "                <font color=\"#21618C\">\n",
    "                    <b>32. Reverse string using a for loop (take the input from user).</b>\n",
    "                </font>\n",
    "            </div>\n",
    "        </td>\n",
    "    </tr>\n",
    "</table>"
   ]
  },
  {
   "cell_type": "code",
   "execution_count": 19,
   "metadata": {},
   "outputs": [
    {
     "name": "stdout",
     "output_type": "stream",
     "text": [
      "Enter String: hey \n",
      "reverse of hey  is  yeh \n"
     ]
    }
   ],
   "source": [
    "# type your code here\n",
    "s1 = input('Enter String: ')\n",
    "l1 = s1.split(' ')\n",
    "s2 =' '\n",
    "for i in s1:    \n",
    "    s2 =i+ s2\n",
    "print(f'reverse of {s1} is {s2}')\n",
    "\n"
   ]
  },
  {
   "cell_type": "markdown",
   "metadata": {},
   "source": [
    "<table align=\"left\">\n",
    "    <tr>\n",
    "        <td width=\"6%\">\n",
    "            <img src=\"question_icon.png\">\n",
    "        </td>\n",
    "        <td>\n",
    "            <div align=\"left\", style=\"font-size:120%\">\n",
    "                <font color=\"#21618C\">\n",
    "                    <b>33. Write a code to find the simple interest (take the input from user).</b>\n",
    "                </font>\n",
    "            </div>\n",
    "        </td>\n",
    "    </tr>\n",
    "</table>"
   ]
  },
  {
   "cell_type": "code",
   "execution_count": 20,
   "metadata": {},
   "outputs": [
    {
     "name": "stdout",
     "output_type": "stream",
     "text": [
      "Enter principal amount100\n",
      "Enter rate of interest10\n",
      "Enter time period3\n",
      "The Simple Interest is 30.0\n"
     ]
    }
   ],
   "source": [
    "#\n",
    "      \n",
    "p=int(input(\"Enter principal amount\"))\n",
    "r=int(input(\"Enter rate of interest\"))\n",
    "t=int(input(\"Enter time period\")) \n",
    "si = (p * r * t)/100    \n",
    "print('The Simple Interest is', si)\n"
   ]
  },
  {
   "cell_type": "markdown",
   "metadata": {},
   "source": [
    "<a id= \"lc\"> </a>\n",
    "## 14. List Comprehension"
   ]
  },
  {
   "cell_type": "markdown",
   "metadata": {},
   "source": [
    "<table align=\"left\">\n",
    "    <tr>\n",
    "        <td width=\"6%\">\n",
    "            <img src=\"question_icon.png\">\n",
    "        </td>\n",
    "        <td>\n",
    "            <div align=\"left\", style=\"font-size:120%\">\n",
    "                <font color=\"#21618C\">\n",
    "                    <b>34. Use list comprehension to find the used vowels in a given sentence and/or word (take the input from user). </b>\n",
    "                </font>\n",
    "            </div>\n",
    "        </td>\n",
    "    </tr>\n",
    "</table>"
   ]
  },
  {
   "cell_type": "code",
   "execution_count": 22,
   "metadata": {},
   "outputs": [
    {
     "name": "stdout",
     "output_type": "stream",
     "text": [
      "Enter String kapil das\n",
      "['a', 'i', 'a']\n"
     ]
    }
   ],
   "source": [
    "# type your code here\n",
    "word = input(\"Enter String \")\n",
    "vowels = \"aeiou\"\n",
    "\n",
    " \n",
    "result = [char for char in word if char in vowels]\n",
    "\n",
    "print(result)\n"
   ]
  },
  {
   "cell_type": "markdown",
   "metadata": {},
   "source": [
    "<table align=\"left\">\n",
    "    <tr>\n",
    "        <td width=\"6%\">\n",
    "            <img src=\"question_icon.png\">\n",
    "        </td>\n",
    "        <td>\n",
    "            <div align=\"left\", style=\"font-size:120%\">\n",
    "                <font color=\"#21618C\">\n",
    "                    <b>35. Create a dictionary and access it values using a condition on its key. The data is given below. Let the condidtion on the key is that it should be a even number.</b>\n",
    "                </font>\n",
    "            </div>\n",
    "       </td>\n",
    "    </tr>\n",
    "</table>\n"
   ]
  },
  {
   "cell_type": "markdown",
   "metadata": {},
   "source": [
    "<table>\n",
    "<tr>\n",
    "    <th>Key</th>\n",
    "    <td>1</td>\n",
    "    <td>2</td>\n",
    "    <td>3</td>\n",
    "    <td>4</td> \n",
    "    <td>5</td> \n",
    "</tr>\n",
    "<tr>\n",
    "    <th>Name</th>\n",
    "    <td>Aman</td>\n",
    "    <td>Mohit</td>\n",
    "    <td>Guari</td>\n",
    "    <td>Imran</td>\n",
    "    <td>Roma</td\n",
    "     </tr>\n",
    "<tr>\n",
    "    <th>Marks</th>\n",
    "    <td>24</td>\n",
    "    <td>25</td>\n",
    "    <td>26</td>\n",
    "    <td>24</td>\n",
    "    <td>27</td>\n",
    "   </tr>\n",
    "</table>"
   ]
  },
  {
   "cell_type": "code",
   "execution_count": 26,
   "metadata": {},
   "outputs": [
    {
     "data": {
      "text/plain": [
       "{1: ('Aman', 24),\n",
       " 2: ('Mohit', 25),\n",
       " 3: ('Guari', 26),\n",
       " 4: ('Imran', 24),\n",
       " 5: ('Roma', 27)}"
      ]
     },
     "execution_count": 26,
     "metadata": {},
     "output_type": "execute_result"
    }
   ],
   "source": [
    "# type your code here\n",
    "\n",
    "dict1 = {1: ('Aman', 24), 2: ('Mohit', 25), 3: ('Guari', 26) , 4:('Imran', 24), 5: ('Roma',27)}\n",
    "dict1"
   ]
  },
  {
   "cell_type": "markdown",
   "metadata": {},
   "source": [
    "<table align=\"left\">\n",
    "    <tr>\n",
    "        <td width=\"6%\">\n",
    "            <img src=\"question_icon.png\">\n",
    "        </td>\n",
    "        <td>\n",
    "            <div align=\"left\", style=\"font-size:120%\">\n",
    "                <font color=\"#21618C\">\n",
    "                    <b>36. Use list comprehension to create a dictionary such that its keys are numbers from 1 to 10 and values are the corresponding to that key are its cube.</b>\n",
    "                </font>\n",
    "            </div>\n",
    "        </td>\n",
    "    </tr>\n",
    "</table>"
   ]
  },
  {
   "cell_type": "code",
   "execution_count": 34,
   "metadata": {},
   "outputs": [
    {
     "name": "stdout",
     "output_type": "stream",
     "text": [
      "{1: 1, 2: 8, 3: 27, 4: 64, 5: 125, 6: 216, 7: 343, 8: 512, 9: 729, 10: 1000}\n"
     ]
    }
   ],
   "source": [
    "# type your code here\n",
    "cubes = {num: num**3 for num in range(1, 11)}\n",
    "print(cubes)\n"
   ]
  },
  {
   "cell_type": "markdown",
   "metadata": {},
   "source": [
    "<table align=\"left\">\n",
    "    <tr>\n",
    "        <td width=\"6%\">\n",
    "            <img src=\"question_icon.png\">\n",
    "        </td>\n",
    "        <td>\n",
    "            <div align=\"left\", style=\"font-size:120%\">\n",
    "                <font color=\"#21618C\">\n",
    "                    <b>37. Use list comprehension to extract numbers from a string </b>\n",
    "                </font>\n",
    "            </div>\n",
    "        </td>\n",
    "    </tr>\n",
    "</table>"
   ]
  },
  {
   "cell_type": "code",
   "execution_count": 36,
   "metadata": {},
   "outputs": [
    {
     "data": {
      "text/plain": [
       "[1, 2, 4, 5]"
      ]
     },
     "execution_count": 36,
     "metadata": {},
     "output_type": "execute_result"
    }
   ],
   "source": [
    "# type your code here\n",
    "string = '1 2 science 4 5 '\n",
    "numbers = [int(word) for word in string.split() if word.isdigit()]\n",
    "numbers\n",
    " "
   ]
  },
  {
   "cell_type": "markdown",
   "metadata": {},
   "source": [
    "<a id='User_Define'></a>\n",
    "## 15. User-Define Function:"
   ]
  },
  {
   "cell_type": "markdown",
   "metadata": {},
   "source": [
    "<table align=\"left\">\n",
    "    <tr>\n",
    "        <td width=\"6%\">\n",
    "            <img src=\"question_icon.png\">\n",
    "        </td>\n",
    "        <td>\n",
    "            <div align=\"left\", style=\"font-size:120%\">\n",
    "                <font color=\"#21618C\">\n",
    "                    <b>38. Define the python function to swap first and last value of the given list<b>\n",
    "                </font>\n",
    "            </div>\n",
    "        </td>\n",
    "    </tr>\n",
    "</table>"
   ]
  },
  {
   "cell_type": "markdown",
   "metadata": {},
   "source": [
    "**Use the list given below:**<br>\n",
    "my_list = [15, 78, 10, 45, 89]"
   ]
  },
  {
   "cell_type": "code",
   "execution_count": 53,
   "metadata": {},
   "outputs": [
    {
     "name": "stdout",
     "output_type": "stream",
     "text": [
      "[15, 78, 10, 45, 89]\n",
      "[89, 78, 10, 45, 15]\n"
     ]
    }
   ],
   "source": [
    "# Write your code here\n",
    "my_list = [15, 78, 10, 45, 89]\n",
    "print(my_list)\n",
    "def swap_values(newList):\n",
    "    size = len(newList)\n",
    "    temp = newList[0]\n",
    "    newList[0] = newList[size - 1]\n",
    "    newList[size - 1] = temp\n",
    "    \n",
    "\n",
    "swap_values(my_list)\n",
    "print(my_list)\n"
   ]
  },
  {
   "cell_type": "markdown",
   "metadata": {},
   "source": [
    "<table align=\"left\">\n",
    "    <tr>\n",
    "        <td width=\"6%\">\n",
    "            <img src=\"question_icon.png\">\n",
    "        </td>\n",
    "        <td>\n",
    "            <div align=\"left\", style=\"font-size:120%\">\n",
    "                <font color=\"#21618C\">\n",
    "                    <b>39. Define the python function to calculate the factorial of the number<b>  \n",
    "                </font>\n",
    "            </div>\n",
    "        </td>\n",
    "    </tr>\n",
    "</table>"
   ]
  },
  {
   "cell_type": "code",
   "execution_count": 58,
   "metadata": {},
   "outputs": [
    {
     "name": "stdout",
     "output_type": "stream",
     "text": [
      "3628800\n"
     ]
    }
   ],
   "source": [
    "# Write your code here\n",
    "def fact(num1):\n",
    "    if(num1 == 0 or  num1 == 1):\n",
    "        return 1\n",
    "    else:\n",
    "        return num1 * fact(num1-1)\n",
    "print(fact(10))"
   ]
  },
  {
   "cell_type": "markdown",
   "metadata": {},
   "source": [
    "<table align=\"left\">\n",
    "    <tr>\n",
    "        <td width=\"6%\">\n",
    "            <img src=\"question_icon.png\">\n",
    "        </td>\n",
    "        <td>\n",
    "            <div align=\"left\", style=\"font-size:120%\">\n",
    "                <font color=\"#21618C\">\n",
    "                    <b>40. Write the python program to get the unique values from the given list<b>\n",
    "                </font>\n",
    "            </div>\n",
    "        </td>\n",
    "    </tr>\n",
    "</table>"
   ]
  },
  {
   "cell_type": "markdown",
   "metadata": {},
   "source": [
    "**Use the list given below:**<br>\n",
    "my_list = [1,2,3,3,11,34,3,3,4,5]"
   ]
  },
  {
   "cell_type": "code",
   "execution_count": 62,
   "metadata": {},
   "outputs": [
    {
     "name": "stdout",
     "output_type": "stream",
     "text": [
      "[1, 2, 3, 34, 4, 5, 11]\n",
      "[1, 2, 3, 11, 34, 4, 5]\n"
     ]
    }
   ],
   "source": [
    "# Write your code here\n",
    "my_list = [1,2,3,3,11,34,3,3,4,5]\n",
    "mylist1= list(set(my_list))\n",
    "print(mylist1)\n",
    "output = []\n",
    "for x in my_list:\n",
    "    if x not in output:\n",
    "        output.append(x)\n",
    "print(output)"
   ]
  },
  {
   "cell_type": "markdown",
   "metadata": {},
   "source": [
    "<a id='Lambda_Functions'></a>\n",
    "## 16. Lambda Functions"
   ]
  },
  {
   "cell_type": "markdown",
   "metadata": {},
   "source": [
    "<table align=\"left\">\n",
    "    <tr>\n",
    "        <td width=\"6%\">\n",
    "            <img src=\"question_icon.png\">\n",
    "        </td>\n",
    "        <td>\n",
    "            <div align=\"left\", style=\"font-size:120%\">\n",
    "                <font color=\"#21618C\">\n",
    "                    <b>41. Find the minimum of the two numbers(34 and 78) using the lambda function<b>\n",
    "                </font>\n",
    "            </div>\n",
    "        </td>\n",
    "    </tr>\n",
    "</table>"
   ]
  },
  {
   "cell_type": "code",
   "execution_count": 68,
   "metadata": {},
   "outputs": [
    {
     "name": "stdout",
     "output_type": "stream",
     "text": [
      "enter number  111\n",
      "enter number 212\n",
      "smal of 11 and 12 is 11\n"
     ]
    }
   ],
   "source": [
    "# Write your code here\n",
    "a  = int(input('enter number  1'))\n",
    "b  = int(input('enter number 2'))\n",
    "small = lambda a, b : min(a,b)\n",
    "print(f'smal of {a} and {b} is {small(a, b)}')\n"
   ]
  },
  {
   "cell_type": "markdown",
   "metadata": {},
   "source": [
    "<a id='Map_Function'></a>\n",
    "### 16.1 Map Function"
   ]
  },
  {
   "cell_type": "markdown",
   "metadata": {},
   "source": [
    "<table align=\"left\">\n",
    "    <tr>\n",
    "        <td width=\"6%\">\n",
    "            <img src=\"question_icon.png\">\n",
    "        </td>\n",
    "        <td>\n",
    "            <div align=\"left\", style=\"font-size:120%\">\n",
    "                <font color=\"#21618C\">\n",
    "                    <b>42. Find the remainder of all the numbers present in a list after dividing by 5\n",
    "<b>\n",
    "                </font>\n",
    "            </div>\n",
    "        </td>\n",
    "    </tr>\n",
    "</table>"
   ]
  },
  {
   "cell_type": "markdown",
   "metadata": {
    "collapsed": true
   },
   "source": [
    "**Use the list given below:**<br>\n",
    "numbers = [ 74, 85, 14, 23 ]"
   ]
  },
  {
   "cell_type": "code",
   "execution_count": 69,
   "metadata": {},
   "outputs": [
    {
     "name": "stdout",
     "output_type": "stream",
     "text": [
      "[14.8, 17.0, 2.8, 4.6]\n"
     ]
    }
   ],
   "source": [
    "# Write your code here\n",
    "numbers = [ 74, 85, 14, 23 ]\n",
    "rem = []\n",
    "for n in numbers:\n",
    "    rem.append(n/5)\n",
    "    \n",
    "print(rem)"
   ]
  },
  {
   "cell_type": "markdown",
   "metadata": {},
   "source": [
    "<table align=\"left\">\n",
    "    <tr>\n",
    "        <td width=\"6%\">\n",
    "            <img src=\"question_icon.png\">\n",
    "        </td>\n",
    "        <td>\n",
    "            <div align=\"left\", style=\"font-size:120%\">\n",
    "                <font color=\"#21618C\">\n",
    "                    <b>43. Concatenate elements from the list1 with the corresponding element of list2<b>\n",
    "                </font>\n",
    "            </div>\n",
    "        </td>\n",
    "    </tr>\n",
    "</table>"
   ]
  },
  {
   "cell_type": "markdown",
   "metadata": {
    "collapsed": true
   },
   "source": [
    "** Use the list given below:**<br>\n",
    "list1 = ['I', 'felt', 'happy', 'because', 'I', 'saw', 'the', 'others', 'were', 'happy']<br>\n",
    "list2 = [11,22,33,44,55,66,77,88,99]"
   ]
  },
  {
   "cell_type": "code",
   "execution_count": 70,
   "metadata": {},
   "outputs": [
    {
     "name": "stdout",
     "output_type": "stream",
     "text": [
      "['I11', 'felt22', 'happy33', 'because44', 'I55', 'saw66', 'the77', 'others88', 'were99']\n"
     ]
    }
   ],
   "source": [
    "# Write your code here\n",
    "list1 = ['I', 'felt', 'happy', 'because', 'I', 'saw', 'the', 'others', 'were', 'happy']\n",
    "list2 = [11,22,33,44,55,66,77,88,99]\n",
    "list3 = [m+str(n) for m,n in zip(list1,list2)]\n",
    "print(list3)"
   ]
  },
  {
   "cell_type": "markdown",
   "metadata": {},
   "source": [
    "<a id='Filter_Function'></a>\n",
    "### 16.2 Filter Function"
   ]
  },
  {
   "cell_type": "markdown",
   "metadata": {},
   "source": [
    "<table align=\"left\">\n",
    "    <tr>\n",
    "        <td width=\"6%\">\n",
    "            <img src=\"question_icon.png\">\n",
    "        </td>\n",
    "        <td>\n",
    "            <div align=\"left\", style=\"font-size:120%\">\n",
    "                <font color=\"#21618C\">\n",
    "                    <b>44. Find the common elements from the given array using filter method<b>\n",
    "                </font>\n",
    "            </div>\n",
    "        </td>\n",
    "    </tr>\n",
    "</table>"
   ]
  },
  {
   "cell_type": "markdown",
   "metadata": {},
   "source": [
    "**Use the array given below:**<br>\n",
    "arr1 = ['t','u','t','o','r','i','a','l']<br>\n",
    "arr2 = ['p','o','i','n','t']"
   ]
  },
  {
   "cell_type": "code",
   "execution_count": 71,
   "metadata": {},
   "outputs": [
    {
     "name": "stdout",
     "output_type": "stream",
     "text": [
      "['o', 'i', 't']\n"
     ]
    }
   ],
   "source": [
    "# Write your code here\n",
    "arr1 = ['t','u','t','o','r','i','a','l']\n",
    "arr2 = ['p','o','i','n','t']\n",
    "values = list(filter(lambda x: x in arr1, arr2))\n",
    "print(values)"
   ]
  },
  {
   "cell_type": "markdown",
   "metadata": {},
   "source": [
    "<a id='Reduce_Function'></a>\n",
    "### 16.3 Reduce Function"
   ]
  },
  {
   "cell_type": "markdown",
   "metadata": {},
   "source": [
    "<table align=\"left\">\n",
    "    <tr>\n",
    "        <td width=\"6%\">\n",
    "            <img src=\"question_icon.png\">\n",
    "        </td>\n",
    "        <td>\n",
    "            <div align=\"left\", style=\"font-size:120%\">\n",
    "                <font color=\"#21618C\">\n",
    "                    <b>45. Determine the maximum of a given list using reduce function<b> \n",
    "                </font>\n",
    "            </div>\n",
    "        </td>\n",
    "    </tr>\n",
    "</table>"
   ]
  },
  {
   "cell_type": "markdown",
   "metadata": {},
   "source": [
    "**Use the list given below:**<br>\n",
    "my_list = [47,11,42,102,13]   "
   ]
  },
  {
   "cell_type": "code",
   "execution_count": 77,
   "metadata": {},
   "outputs": [
    {
     "data": {
      "text/plain": [
       "102"
      ]
     },
     "execution_count": 77,
     "metadata": {},
     "output_type": "execute_result"
    }
   ],
   "source": [
    "# Write your code here\n",
    "my_list = [47,11,42,102,13]   \n",
    "#max_value = reduce(lambda x, y: x if x > y else y, mylist)\n",
    "\n",
    "max(my_list)"
   ]
  },
  {
   "cell_type": "code",
   "execution_count": null,
   "metadata": {},
   "outputs": [],
   "source": []
  }
 ],
 "metadata": {
  "kernelspec": {
   "display_name": "Python 3 (ipykernel)",
   "language": "python",
   "name": "python3"
  },
  "language_info": {
   "codemirror_mode": {
    "name": "ipython",
    "version": 3
   },
   "file_extension": ".py",
   "mimetype": "text/x-python",
   "name": "python",
   "nbconvert_exporter": "python",
   "pygments_lexer": "ipython3",
   "version": "3.11.5"
  }
 },
 "nbformat": 4,
 "nbformat_minor": 4
}
